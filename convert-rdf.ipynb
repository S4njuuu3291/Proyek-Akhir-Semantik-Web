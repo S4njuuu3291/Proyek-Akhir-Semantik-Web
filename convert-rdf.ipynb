{
 "cells": [
  {
   "cell_type": "code",
   "execution_count": null,
   "id": "4b97fe90",
   "metadata": {
    "vscode": {
     "languageId": "plaintext"
    }
   },
   "outputs": [],
   "source": [
    "import pandas as pd\n",
    "from rdflib import Graph, Namespace, URIRef, Literal\n",
    "from rdflib.namespace import RDF, RDFS, XSD, DCTERMS, OWL\n",
    "\n",
    "# --- Load Data\n",
    "df = pd.read_csv(\"Baris Data - Sheet1 (2).csv\")\n",
    "\n",
    "# --- RDF Setup\n",
    "g = Graph()\n",
    "ONT = Namespace(\"http://yusupbanyuwangi.org/ontology#\")\n",
    "LEXINFO = Namespace(\"http://www.lexinfo.net/ontology/2.0/lexinfo#\")\n",
    "\n",
    "g.bind(\"\", ONT)\n",
    "g.bind(\"rdf\", RDF)\n",
    "g.bind(\"rdfs\", RDFS)\n",
    "g.bind(\"xsd\", XSD)\n",
    "g.bind(\"dcterms\", DCTERMS)\n",
    "g.bind(\"owl\", OWL)\n",
    "g.bind(\"lexinfo\", LEXINFO)\n",
    "\n",
    "# --- Instance Umum\n",
    "manuskrip_uri = ONT[\"naskahYusup01\"]\n",
    "g.add((manuskrip_uri, RDF.type, ONT.Manuskrip))\n",
    "g.add((manuskrip_uri, DCTERMS.title, Literal(\"Lontar Yusup Banyuwangi\", lang=\"jv\")))\n",
    "g.add((manuskrip_uri, DCTERMS.language, Literal(\"jv\")))\n",
    "g.add((manuskrip_uri, ONT.ditulisMenggunakan, ONT.AksaraPegon))\n",
    "\n",
    "g.add((ONT.AksaraPegon, RDF.type, ONT.SistemTulisan))\n",
    "g.add((ONT.AksaraPegon, RDFS.label, Literal(\"Arab Pegon\", lang=\"id\")))\n",
    "\n",
    "# --- Loop Per Baris\n",
    "for index, row in df.iterrows():\n",
    "    idx = f\"{int(row['id_baris']):03d}\"\n",
    "    baris_uri = ONT[f\"baris{idx}\"]\n",
    "    aksara_uri = ONT[f\"aksara_baris{idx}\"]\n",
    "    translit_uri = ONT[f\"translit_baris{idx}\"]\n",
    "    terjemah_uri = ONT[f\"terjemah_baris{idx}\"]\n",
    "\n",
    "    g.add((baris_uri, RDF.type, ONT.BarisNaskah))\n",
    "    g.add((baris_uri, ONT.isFromManuscript, manuskrip_uri))\n",
    "    g.add((baris_uri, ONT.mengandungAksara, aksara_uri))\n",
    "    g.add((baris_uri, ONT.hasTransliteration, translit_uri))\n",
    "    g.add((baris_uri, ONT.hasTranslation, terjemah_uri))\n",
    "    g.add((baris_uri, DCTERMS.identifier, Literal(f\"YUSUP01-B{idx}\")))\n",
    "\n",
    "    g.add((aksara_uri, RDF.type, ONT.TeksAksara))\n",
    "    g.add((aksara_uri, RDF.value, Literal(row['aksara'], lang=\"urlImage\")))\n",
    "    g.add((aksara_uri, LEXINFO.script, ONT.AksaraPegon))\n",
    "\n",
    "    g.add((translit_uri, RDF.type, ONT.Transliterasi))\n",
    "    g.add((translit_uri, RDF.value, Literal(row['transliterasi'], lang=\"jv-Latn\")))\n",
    "    g.add((translit_uri, ONT.menggunakanAturan, Literal(\"Transliterasi Arab Pegon Standar\")))\n",
    "\n",
    "    g.add((terjemah_uri, RDF.type, ONT.Terjemahan))\n",
    "    g.add((terjemah_uri, RDF.value, Literal(row['terjemahan'], lang=\"id\")))\n",
    "    g.add((terjemah_uri, ONT.keBahasa, Literal(\"id\")))\n",
    "    g.add((terjemah_uri, ONT.dariBahasa, Literal(\"jv\")))\n",
    "\n",
    "# --- Simpan\n",
    "g.serialize(\"output_lontar.ttl\", format=\"turtle\")"
   ]
  }
 ],
 "metadata": {
  "language_info": {
   "name": "python"
  }
 },
 "nbformat": 4,
 "nbformat_minor": 5
}
